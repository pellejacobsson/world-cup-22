{
 "cells": [
  {
   "cell_type": "code",
   "execution_count": 1,
   "metadata": {},
   "outputs": [],
   "source": [
    "import pandas as pd\n",
    "import numpy as np\n",
    "import matplotlib.pyplot as plt\n",
    "from datetime import datetime\n",
    "import torch\n",
    "from torch import nn\n",
    "from torch.utils.data import DataLoader, Dataset\n",
    "from sklearn.preprocessing import MinMaxScaler\n",
    "from sklearn.model_selection import train_test_split"
   ]
  },
  {
   "cell_type": "code",
   "execution_count": 108,
   "metadata": {},
   "outputs": [],
   "source": [
    "class FootballDataset(Dataset):\n",
    "    def __init__(self, feature_cols=None, train=True):\n",
    "        df = pd.read_csv('gold.csv')\n",
    "        if feature_cols:\n",
    "            x = df[feature_cols].values\n",
    "        else:\n",
    "            x = df.drop(columns=['team1', 'team2', 'team1_score', 'team1_home', 'team1_nation_team_id_mean',\n",
    "            'team1_nation_team_id_min', 'team1_nation_team_id_max', 'team2_nation_team_id_mean',\n",
    "            'team2_nation_team_id_min', 'team2_nation_team_id_max']).values\n",
    "        y = df['team1_score'].values\n",
    "        x_train, x_test, y_train, y_test = train_test_split(x, y, test_size=0.2, random_state=42)\n",
    "        scaler = MinMaxScaler()\n",
    "        x_train = scaler.fit_transform(x_train)\n",
    "        x_test = scaler.transform(x_test)\n",
    "        self.x = x_train if train else x_test\n",
    "        self.y = y_train if train else y_test\n",
    "        self.x = torch.Tensor(self.x)\n",
    "        self.y = torch.LongTensor(self.y)\n",
    "\n",
    "    def __len__(self):\n",
    "        return len(self.y)\n",
    "    \n",
    "    def __getitem__(self, i):\n",
    "        return self.x[i], self.y[i]"
   ]
  },
  {
   "cell_type": "code",
   "execution_count": 109,
   "metadata": {},
   "outputs": [],
   "source": [
    "x_cols = ['team1_overall_mean', 'team1_overall_min', 'team1_overall_max',\n",
    "       'team1_potential_mean', 'team1_potential_min', 'team1_potential_max',\n",
    "       'team2_overall_mean', 'team2_overall_min', 'team2_overall_max',\n",
    "       'team2_potential_mean', 'team2_potential_min', 'team2_potential_max',\n",
    "       'team1_goalkeeping_positioning_max', 'team1_goalkeeping_reflexes_max',\n",
    "       'team2_goalkeeping_positioning_max', 'team2_goalkeeping_reflexes_max',\n",
    "       'team1_age_mean', 'team1_age_min', 'team1_age_max','team2_age_mean', \n",
    "       'team2_age_min', 'team2_age_max', 'team1_skill_moves_mean',\n",
    "       'team1_skill_moves_min', 'team1_skill_moves_max', 'team2_skill_moves_mean',\n",
    "       'team2_skill_moves_min', 'team2_skill_moves_max']\n",
    "y_cols = ['team1_score']"
   ]
  },
  {
   "cell_type": "code",
   "execution_count": 110,
   "metadata": {},
   "outputs": [],
   "source": [
    "ds_train = FootballDataset(feature_cols=x_cols)\n",
    "ds_test = FootballDataset(feature_cols=x_cols, train=False)"
   ]
  },
  {
   "cell_type": "code",
   "execution_count": 111,
   "metadata": {},
   "outputs": [],
   "source": [
    "dl_train = DataLoader(ds_train, batch_size=64)\n",
    "dl_test = DataLoader(ds_test, batch_size=64)"
   ]
  },
  {
   "cell_type": "code",
   "execution_count": 134,
   "metadata": {},
   "outputs": [],
   "source": [
    "class FootballNN(nn.Module):\n",
    "    def __init__(self, n_input):\n",
    "        super(FootballNN, self).__init__()\n",
    "        self.main = nn.Sequential(\n",
    "            nn.Linear(n_input, 20),\n",
    "            nn.BatchNorm1d(20),\n",
    "            nn.Tanh(),\n",
    "            nn.Linear(20, 20),\n",
    "            nn.BatchNorm1d(20),\n",
    "            nn.Tanh(),\n",
    "            nn.Linear(20, 15),\n",
    "            nn.BatchNorm1d(15),\n",
    "            nn.Tanh(),\n",
    "            nn.Linear(15, 10),\n",
    "            nn.BatchNorm1d(10),\n",
    "            nn.Tanh(),\n",
    "            nn.Linear(10, 8)\n",
    "        )\n",
    "\n",
    "    def forward(self, x):\n",
    "        return self.main(x)"
   ]
  },
  {
   "cell_type": "code",
   "execution_count": 135,
   "metadata": {},
   "outputs": [],
   "source": [
    "n_input = ds_train[0][0].shape[0]\n",
    "model = FootballNN(n_input)"
   ]
  },
  {
   "cell_type": "code",
   "execution_count": 146,
   "metadata": {},
   "outputs": [],
   "source": [
    "def train_loop(dataloader, model, loss_fn, optimizer):\n",
    "    size = len(dataloader.dataset)\n",
    "    for batch, (x, y) in enumerate(dataloader):\n",
    "        pred = model(x)\n",
    "        loss = loss_fn(pred, y)\n",
    "        optimizer.zero_grad()\n",
    "        loss.backward()\n",
    "        optimizer.step()\n",
    "    return loss.item()\n",
    "\n",
    "def test_loop(dataloader, model, loss_fn):\n",
    "    size = len(dataloader.dataset)\n",
    "    num_batches = len(dataloader)\n",
    "    test_loss = 0\n",
    "    with torch.no_grad():\n",
    "        for x, y in dataloader:\n",
    "            pred = model(x)\n",
    "            test_loss += loss_fn(pred, y).item()\n",
    "    test_loss /= num_batches\n",
    "    return test_loss"
   ]
  },
  {
   "cell_type": "code",
   "execution_count": 156,
   "metadata": {},
   "outputs": [],
   "source": [
    "learning_rate = 1e-3\n",
    "epochs = 1000\n",
    "loss_fn = nn.CrossEntropyLoss()\n",
    "optimizer = torch.optim.SGD(model.parameters(), lr=learning_rate)"
   ]
  },
  {
   "cell_type": "code",
   "execution_count": 157,
   "metadata": {},
   "outputs": [
    {
     "name": "stdout",
     "output_type": "stream",
     "text": [
      "Epoch 0\n",
      "Epoch 100\n",
      "Epoch 200\n",
      "Epoch 300\n",
      "Epoch 400\n",
      "Epoch 500\n",
      "Epoch 600\n",
      "Epoch 700\n",
      "Epoch 800\n",
      "Epoch 900\n",
      "Done!\n"
     ]
    }
   ],
   "source": [
    "train_loss_list = []\n",
    "test_loss_list = []\n",
    "for t in range(epochs):\n",
    "    if t % 100 == 0:\n",
    "        print(f\"Epoch {t}\")\n",
    "    l1 = train_loop(dl_train, model, loss_fn, optimizer)\n",
    "    l2 = test_loop(dl_test, model, loss_fn)\n",
    "    train_loss_list.append(l1)\n",
    "    test_loss_list.append(l2)\n",
    "print(\"Done!\")"
   ]
  },
  {
   "cell_type": "code",
   "execution_count": 151,
   "metadata": {},
   "outputs": [],
   "source": [
    "plt.style.use('seaborn-whitegrid')"
   ]
  },
  {
   "cell_type": "code",
   "execution_count": 153,
   "metadata": {},
   "outputs": [
    {
     "data": {
      "text/plain": [
       "[<matplotlib.lines.Line2D at 0x2004b0ed8d0>]"
      ]
     },
     "execution_count": 153,
     "metadata": {},
     "output_type": "execute_result"
    },
    {
     "data": {
      "image/png": "[encoded data removed]",
      "text/plain": [
       "<Figure size 864x432 with 1 Axes>"
      ]
     },
     "metadata": {},
     "output_type": "display_data"
    }
   ],
   "source": [
    "fig, ax = plt.subplots(figsize=(12, 6))\n",
    "ax.plot(train_loss_list)\n",
    "ax.plot(test_loss_list)"
   ]
  },
  {
   "cell_type": "code",
   "execution_count": 139,
   "metadata": {},
   "outputs": [],
   "source": [
    "y_pred = nn.Softmax(dim=1)(model(ds_test[:][0])).detach().numpy()"
   ]
  },
  {
   "cell_type": "code",
   "execution_count": 140,
   "metadata": {},
   "outputs": [
    {
     "data": {
      "text/plain": [
       "array([2, 1, 0, 0, 1, 1, 1, 1, 0, 1, 1, 0, 2, 1, 0, 1, 0, 0, 1, 0, 0, 1,\n",
       "       0, 0, 0, 0, 1, 1, 1, 0, 1, 0, 1, 0, 1, 1, 0, 0, 1, 1, 2, 1, 1, 2,\n",
       "       0, 1, 2, 1, 0, 0, 1, 1, 0, 2, 1, 0, 0, 0, 2, 0, 1, 1, 0, 0, 1, 1,\n",
       "       1, 2, 0, 1, 2, 0, 0, 1, 2, 0, 1, 0, 0, 0, 0, 1, 1, 1, 1, 0, 1, 2,\n",
       "       0, 2, 2, 1, 0, 1, 1, 1, 2, 0, 1, 0, 2, 1, 2, 1, 2, 1, 0, 1, 1, 1,\n",
       "       1, 2, 1, 2, 0, 1, 0, 0, 0, 1, 0, 1, 0, 0, 2, 2, 2, 1, 1, 1, 0, 1,\n",
       "       0, 2, 1, 2, 0, 1, 1, 2, 0, 1, 1, 1, 1, 0, 1, 0, 1, 0, 1, 1, 1, 0,\n",
       "       1, 2, 1, 0, 1, 0, 1, 1, 1, 1, 1, 1, 0, 0, 1, 1, 1, 1, 0, 1, 0, 0,\n",
       "       1, 1, 0, 0, 1, 1, 0, 0, 1, 1, 1, 1, 1, 0, 2, 0, 0, 0, 1, 1, 0, 0,\n",
       "       0, 1, 1, 2, 1, 0, 1, 1, 0, 1, 1, 1, 1, 0, 1, 0, 2, 1, 0, 0, 1, 1,\n",
       "       1, 0, 0, 1, 0, 0, 1, 0, 1, 1, 2, 2, 1, 0, 1, 0, 2, 1, 0, 0, 0, 1,\n",
       "       0, 1, 1, 1, 0, 1, 0, 2, 1, 0, 1, 2, 1, 1, 0, 0, 0, 0, 0, 1, 0, 1,\n",
       "       2, 1, 2, 1, 1, 1, 2, 0, 1, 0, 0, 1, 1, 1, 0, 1, 0, 1, 0, 0, 1, 0,\n",
       "       1, 0, 1, 2, 1, 0, 1, 2, 2, 0, 0, 0, 1, 1, 0, 0, 1, 0, 1, 2, 1, 0,\n",
       "       0, 1, 0, 1, 1, 1, 0, 2, 0, 1, 1, 2, 1, 1, 0, 2, 1, 0, 1, 1, 2, 0,\n",
       "       1, 1, 0, 1, 0, 2, 0, 0, 1, 1, 0, 1, 1, 0, 0, 1, 1, 2, 0, 1, 0, 0,\n",
       "       1, 2, 0, 0, 2, 0, 2, 1, 0, 1, 1, 0, 2, 0, 0, 0, 1, 1, 1, 1, 1, 2,\n",
       "       2, 0, 1, 1, 0, 0, 0, 1, 1, 1, 0, 1, 0, 1, 1, 1, 0, 1, 2, 1, 0, 0,\n",
       "       0, 1, 2, 1, 1, 1, 1, 0, 1, 1, 1, 0, 0, 2, 1, 0, 0, 1, 1, 0, 0, 0,\n",
       "       2, 1, 0, 1, 1, 0, 1, 0, 0, 1, 2, 1, 1, 1, 0, 0, 0, 1, 1, 1, 0, 0,\n",
       "       1, 2, 1, 1, 1, 0, 1, 1, 1, 0, 1, 0, 0, 1, 1, 0, 1, 1, 1, 1, 1, 1,\n",
       "       0, 0, 0, 0, 0, 1, 1, 0, 0, 0, 1, 1, 1, 0, 0, 0, 0, 0, 1, 1, 2, 1,\n",
       "       1, 1, 1, 0, 0, 1, 1, 1, 0, 2, 0, 1, 1, 1, 1, 1, 0, 1, 0, 1, 1, 0,\n",
       "       1, 2, 2, 0, 0, 0, 1, 1, 1, 0, 0, 1, 1, 1, 1, 1, 0, 1, 1, 0, 0, 1,\n",
       "       2, 0, 1, 0, 2, 0, 0, 1, 1, 0, 1, 0, 1, 0, 1, 1, 0, 0, 1, 1, 1, 2,\n",
       "       1, 1, 0, 1, 1, 1, 1, 1, 1, 1, 2, 1, 0, 0, 1, 0, 1, 1, 0, 1, 0, 1,\n",
       "       1, 0, 1, 1, 0, 1, 0, 1, 0, 1, 2, 0, 0, 0, 1, 1, 0, 1, 1, 0, 1, 2,\n",
       "       1, 1, 1, 0, 1, 2, 0, 1, 1, 1, 1, 0, 1, 1, 1, 0, 1, 0, 1, 1, 0, 1,\n",
       "       1, 0, 2, 0, 1, 1, 0, 0, 0, 1, 0, 0, 2, 2, 0, 1, 1, 1, 1, 1, 0, 2,\n",
       "       1, 1, 0, 0, 2, 1, 0, 2, 1, 0, 2, 2, 1, 1, 1, 0, 1, 1, 0, 2, 1, 1,\n",
       "       0, 0, 0, 2, 1, 1, 1, 1, 1, 0, 0, 1], dtype=int64)"
      ]
     },
     "execution_count": 140,
     "metadata": {},
     "output_type": "execute_result"
    }
   ],
   "source": [
    "y_pred.argmax(axis=1)"
   ]
  },
  {
   "cell_type": "code",
   "execution_count": null,
   "metadata": {},
   "outputs": [],
   "source": []
  }
 ],
 "metadata": {
  "kernelspec": {
   "display_name": "Python 3.10.4 ('ds')",
   "language": "python",
   "name": "python3"
  },
  "language_info": {
   "codemirror_mode": {
    "name": "ipython",
    "version": 3
   },
   "file_extension": ".py",
   "mimetype": "text/x-python",
   "name": "python",
   "nbconvert_exporter": "python",
   "pygments_lexer": "ipython3",
   "version": "3.10.4"
  },
  "orig_nbformat": 4,
  "vscode": {
   "interpreter": {
    "hash": "b3a043178ada9d4c5db5c554af2928a075e91ce55be1610613069a3768aec180"
   }
  }
 },
 "nbformat": 4,
 "nbformat_minor": 2
}
