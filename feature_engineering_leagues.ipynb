{
 "cells": [
  {
   "cell_type": "code",
   "execution_count": 1,
   "metadata": {},
   "outputs": [],
   "source": [
    "import pandas as pd\n",
    "import numpy as np\n",
    "from datetime import datetime"
   ]
  },
  {
   "cell_type": "code",
   "execution_count": 93,
   "metadata": {},
   "outputs": [],
   "source": [
    "def transform_results(df):\n",
    "    # Keep dates from year 2015 - 2022\n",
    "    df['year'] = df['Date'].apply(lambda r: int(r.split('.')[-1]))\n",
    "    df = df[df['year'] >= 2015].reset_index(drop=True)\n",
    "    df = df[['year', 'Home', 'Away', 'H_Score', 'A_Score']]\n",
    "    df = df.rename(\n",
    "        columns={\n",
    "            'Home': 'home_team', \n",
    "            'Away': 'away_team',\n",
    "            'H_Score': 'home_score',\n",
    "            'A_Score': 'away_score'\n",
    "        }\n",
    "    )\n",
    "    # Change from results from\n",
    "    # team1 | team2 | score1 | score2\n",
    "    # to\n",
    "    # team1 | team2 | score1\n",
    "    # team2 | team1 | score2\n",
    "    year = np.hstack((df['year'].values, df['year'].values))\n",
    "    team1 = np.hstack((df['home_team'].values, df['away_team'].values))\n",
    "    team2 = np.hstack((df['away_team'].values, df['home_team'].values))\n",
    "    score = np.hstack((df['home_score'].values, df['away_score'].values))\n",
    "    home_team = np.hstack((np.ones(len(df), dtype=int), np.zeros(len(df), dtype=int)))\n",
    "    df = pd.DataFrame({'year': year, 'team1': team1, 'team2': team2, 'team1_score': score, 'team1_home': home_team})\n",
    "    df['team1'] = df['team1'].astype('string')\n",
    "    df['team2'] = df['team2'].astype('string')\n",
    "    df = df.dropna(subset='team1_score')\n",
    "    df['team1_score'] = df['team1_score'].apply(int)\n",
    "    return df\n",
    "\n",
    "def aggregate_teams(df):\n",
    "    # Choose columns to keep.\n",
    "    columns = (['year', 'overall', 'potential', 'value_eur', 'wage_eur', 'age', 'height_cm', \n",
    "        'weight_kg', 'club_name'] + \n",
    "        [f for f in df.columns if f.startswith(('attacking_', 'skill_', 'movement_', 'power_', \n",
    "            'mentality_', 'defending_', 'goalkeeping_'))])\n",
    "    columns.remove('mentality_composure')\n",
    "    columns.remove('goalkeeping_speed')\n",
    "    df = df[columns]\n",
    "    df = df.fillna(0)\n",
    "    # For each feature, aggregate mean, min, and max per team\n",
    "    df_agg = df.groupby(['year', 'club_name']).agg(['mean', 'min', 'max'])\n",
    "    df_agg.columns = df_agg.columns.map('_'.join)\n",
    "    keep_columns = [f for f in df_agg.columns if not (f.startswith('goalkeeping_') and f.endswith(('mean', 'min')))]\n",
    "    df_agg = df_agg[keep_columns].reset_index()\n",
    "    df_agg = df_agg.rename(columns={'club_name': 'team'})\n",
    "    df_agg['team'] = df_agg['team'].astype('string')\n",
    "    return df_agg\n",
    "\n",
    "def merge_results_teams(res, teams):\n",
    "    match_list = []\n",
    "    val_cols = [c for c in teams.columns if c not in ['year', 'team']]\n",
    "    col_names = ['team1_' + c for c in val_cols] + ['team2_' + c for c in val_cols]\n",
    "    # Translate team names into aggregated gold_columns for that team\n",
    "    for row in res.itertuples(index=False):\n",
    "        year = row.year\n",
    "        team1 = row.team1\n",
    "        team2 = row.team2\n",
    "        if not ((team1 in teams[teams['year'] == year].values) and (team2 in teams[teams['year'] == year].values)):\n",
    "            continue\n",
    "        idx1 = (teams['year'] == year) & (teams['team'] == team1)\n",
    "        idx2 = (teams['year'] == year) & (teams['team'] == team2)\n",
    "        col_vals = np.hstack((\n",
    "            teams.loc[idx1, val_cols].values[0],\n",
    "            teams.loc[idx2, val_cols].values[0]\n",
    "        ))\n",
    "        d = {col_name: col_val for (col_name, col_val) in zip(col_names, col_vals)}\n",
    "        d['team1'] = team1\n",
    "        d['team2'] = team2\n",
    "        d['team1_score'] = row.team1_score\n",
    "        d['team1_home'] = row.team1_home\n",
    "        match_list.append(d)\n",
    "    return pd.DataFrame(match_list)\n",
    "\n",
    "def feature_engineering(player_filename, results_filename):\n",
    "    df_teams = pd.read_csv(player_filename)\n",
    "    df_results = pd.read_csv(results_filename)\n",
    "    teams1 = set(df_results['Home']).union(set(df_results['Away']))\n",
    "    teams2 = set(df_teams['club_name'])\n",
    "    teams = teams1.intersection(teams2)\n",
    "    df_results = df_results[df_results['Home'].isin(teams) & df_results['Away'].isin(teams)]\n",
    "    df_teams = df_teams[df_teams['club_name'].isin(teams)]\n",
    "    df_teams = aggregate_teams(df_teams)\n",
    "    df_results = transform_results(df_results)\n",
    "    df = merge_results_teams(df_results, df_teams)\n",
    "    return df, df_teams"
   ]
  },
  {
   "cell_type": "code",
   "execution_count": 94,
   "metadata": {},
   "outputs": [
    {
     "name": "stderr",
     "output_type": "stream",
     "text": [
      "C:\\Users\\pejacobs\\AppData\\Local\\Temp\\ipykernel_3860\\3700999787.py:76: DtypeWarning: Columns (26,109) have mixed types. Specify dtype option on import or set low_memory=False.\n",
      "  df_teams = pd.read_csv(player_filename)\n"
     ]
    }
   ],
   "source": [
    "df, df_teams = feature_engineering('players_all_years.csv', 'full_data.csv')"
   ]
  },
  {
   "cell_type": "code",
   "execution_count": 96,
   "metadata": {},
   "outputs": [],
   "source": [
    "df.to_parquet('league_games.parquet')"
   ]
  },
  {
   "cell_type": "code",
   "execution_count": null,
   "metadata": {},
   "outputs": [],
   "source": []
  }
 ],
 "metadata": {
  "kernelspec": {
   "display_name": "Python 3.10.6 ('ds-base')",
   "language": "python",
   "name": "python3"
  },
  "language_info": {
   "codemirror_mode": {
    "name": "ipython",
    "version": 3
   },
   "file_extension": ".py",
   "mimetype": "text/x-python",
   "name": "python",
   "nbconvert_exporter": "python",
   "pygments_lexer": "ipython3",
   "version": "3.10.6"
  },
  "orig_nbformat": 4,
  "vscode": {
   "interpreter": {
    "hash": "921a7460100d8ae3825e646b690b80e6b4caef73fe6022a0e35634beb157f104"
   }
  }
 },
 "nbformat": 4,
 "nbformat_minor": 2
}
