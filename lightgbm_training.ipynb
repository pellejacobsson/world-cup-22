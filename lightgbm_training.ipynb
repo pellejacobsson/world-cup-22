{
 "cells": [
  {
   "cell_type": "code",
   "execution_count": 35,
   "metadata": {},
   "outputs": [],
   "source": [
    "import pandas as pd\n",
    "import numpy as np\n",
    "import matplotlib.pyplot as plt\n",
    "from datetime import datetime\n",
    "import seaborn as sns\n",
    "import joblib"
   ]
  },
  {
   "cell_type": "code",
   "execution_count": 2,
   "metadata": {},
   "outputs": [],
   "source": [
    "sns.set_theme()"
   ]
  },
  {
   "cell_type": "code",
   "execution_count": 3,
   "metadata": {},
   "outputs": [],
   "source": [
    "df_nat = pd.read_parquet('national_games.parquet')\n",
    "df_leag = pd.read_parquet('league_games.parquet')"
   ]
  },
  {
   "cell_type": "code",
   "execution_count": 4,
   "metadata": {},
   "outputs": [],
   "source": [
    "df = pd.concat([df_nat, df_leag], ignore_index=True)"
   ]
  },
  {
   "cell_type": "code",
   "execution_count": 5,
   "metadata": {},
   "outputs": [],
   "source": [
    "from sklearn.model_selection import RandomizedSearchCV, train_test_split\n",
    "import lightgbm as lgb\n",
    "from scipy.stats import uniform, loguniform, randint\n",
    "from sklearn.metrics import ConfusionMatrixDisplay"
   ]
  },
  {
   "cell_type": "code",
   "execution_count": 11,
   "metadata": {},
   "outputs": [],
   "source": [
    "x_cols = ['overall', 'potential', 'skill_moves', 'attacking_finishing', \n",
    "          'skill_long_passing', 'movement_sprint_speed', 'movement_agility', \n",
    "          'value_eur', 'wage_eur', 'attacking_finishing', 'power_stamina']\n",
    "x_cols = [s + a for s in x_cols  for a in ['_min', '_mean', '_max']]\n",
    "x_cols = x_cols + ['goalkeeping_positioning_max', 'goalkeeping_reflexes_max']\n",
    "x_cols = [t + s for t in ['team1_', 'team2_'] for s in x_cols]\n",
    "y_col = ['team1_score']"
   ]
  },
  {
   "cell_type": "code",
   "execution_count": 12,
   "metadata": {},
   "outputs": [],
   "source": [
    "x = df[x_cols].values\n",
    "y = df[y_col].values.ravel()\n",
    "y[y > 5] = 5"
   ]
  },
  {
   "cell_type": "code",
   "execution_count": 14,
   "metadata": {},
   "outputs": [],
   "source": [
    "x_train, x_test, y_train, y_test = train_test_split(x, y, test_size=0.2, stratify=y)"
   ]
  },
  {
   "cell_type": "code",
   "execution_count": 15,
   "metadata": {},
   "outputs": [],
   "source": [
    "def transform_cv_results(res):\n",
    "    d = {'fit_time': res['mean_fit_time']}\n",
    "    for (k, v) in res.items():\n",
    "        if k.startswith('param_'):\n",
    "            d[k[6:]] = v\n",
    "    for (k, v) in res.items():\n",
    "        if k.startswith('mean_test_'):\n",
    "            d[k[10:]] = v\n",
    "    for (k, v) in res.items():\n",
    "        if k.startswith('rank_test_'):\n",
    "            d[k[10:] + '_rank'] = v\n",
    "    return pd.DataFrame(d)"
   ]
  },
  {
   "cell_type": "code",
   "execution_count": 16,
   "metadata": {},
   "outputs": [],
   "source": [
    "model = lgb.LGBMClassifier(class_weight='balanced')\n",
    "grid_params = {\n",
    "    'n_estimators': randint(700, 1200),\n",
    "    'learning_rate': loguniform(0.005, 0.02),\n",
    "    'max_depth': randint(7, 11),\n",
    "    'num_leaves': 2 ** np.arange(5, 8),\n",
    "    'colsample_bytree': uniform(0.01, 0.5)\n",
    "}\n",
    "scores = {'balanced_accuracy': 'balanced_accuracy', 'f1_weighted': 'f1_weighted',\n",
    "    'roc_auc_ovr_weighted': 'roc_auc_ovr_weighted'}\n",
    "clf = RandomizedSearchCV(model, grid_params, n_iter=100, scoring=scores, refit='f1_weighted')\n",
    "search = clf.fit(x_train, y_train)"
   ]
  },
  {
   "cell_type": "code",
   "execution_count": 17,
   "metadata": {},
   "outputs": [],
   "source": [
    "res = transform_cv_results(clf.cv_results_)"
   ]
  },
  {
   "cell_type": "code",
   "execution_count": 34,
   "metadata": {},
   "outputs": [
    {
     "data": {
      "text/html": [
       "<div>\n",
       "<style scoped>\n",
       "    .dataframe tbody tr th:only-of-type {\n",
       "        vertical-align: middle;\n",
       "    }\n",
       "\n",
       "    .dataframe tbody tr th {\n",
       "        vertical-align: top;\n",
       "    }\n",
       "\n",
       "    .dataframe thead th {\n",
       "        text-align: right;\n",
       "    }\n",
       "</style>\n",
       "<table border=\"1\" class=\"dataframe\">\n",
       "  <thead>\n",
       "    <tr style=\"text-align: right;\">\n",
       "      <th></th>\n",
       "      <th>fit_time</th>\n",
       "      <th>colsample_bytree</th>\n",
       "      <th>learning_rate</th>\n",
       "      <th>max_depth</th>\n",
       "      <th>n_estimators</th>\n",
       "      <th>num_leaves</th>\n",
       "      <th>balanced_accuracy</th>\n",
       "      <th>f1_weighted</th>\n",
       "      <th>roc_auc_ovr_weighted</th>\n",
       "      <th>balanced_accuracy_rank</th>\n",
       "      <th>f1_weighted_rank</th>\n",
       "      <th>roc_auc_ovr_weighted_rank</th>\n",
       "    </tr>\n",
       "  </thead>\n",
       "  <tbody>\n",
       "    <tr>\n",
       "      <th>59</th>\n",
       "      <td>10.614483</td>\n",
       "      <td>0.066566</td>\n",
       "      <td>0.012932</td>\n",
       "      <td>10</td>\n",
       "      <td>1067</td>\n",
       "      <td>64</td>\n",
       "      <td>0.216819</td>\n",
       "      <td>0.300684</td>\n",
       "      <td>0.569520</td>\n",
       "      <td>73</td>\n",
       "      <td>1</td>\n",
       "      <td>66</td>\n",
       "    </tr>\n",
       "    <tr>\n",
       "      <th>71</th>\n",
       "      <td>11.724659</td>\n",
       "      <td>0.064785</td>\n",
       "      <td>0.019609</td>\n",
       "      <td>10</td>\n",
       "      <td>733</td>\n",
       "      <td>128</td>\n",
       "      <td>0.208594</td>\n",
       "      <td>0.299626</td>\n",
       "      <td>0.563129</td>\n",
       "      <td>94</td>\n",
       "      <td>2</td>\n",
       "      <td>94</td>\n",
       "    </tr>\n",
       "    <tr>\n",
       "      <th>7</th>\n",
       "      <td>9.906502</td>\n",
       "      <td>0.415961</td>\n",
       "      <td>0.019017</td>\n",
       "      <td>9</td>\n",
       "      <td>1089</td>\n",
       "      <td>32</td>\n",
       "      <td>0.214293</td>\n",
       "      <td>0.299485</td>\n",
       "      <td>0.567458</td>\n",
       "      <td>81</td>\n",
       "      <td>3</td>\n",
       "      <td>78</td>\n",
       "    </tr>\n",
       "    <tr>\n",
       "      <th>31</th>\n",
       "      <td>19.246020</td>\n",
       "      <td>0.182715</td>\n",
       "      <td>0.007614</td>\n",
       "      <td>10</td>\n",
       "      <td>1151</td>\n",
       "      <td>128</td>\n",
       "      <td>0.211101</td>\n",
       "      <td>0.299429</td>\n",
       "      <td>0.566634</td>\n",
       "      <td>90</td>\n",
       "      <td>4</td>\n",
       "      <td>86</td>\n",
       "    </tr>\n",
       "    <tr>\n",
       "      <th>23</th>\n",
       "      <td>14.843153</td>\n",
       "      <td>0.456038</td>\n",
       "      <td>0.010623</td>\n",
       "      <td>9</td>\n",
       "      <td>963</td>\n",
       "      <td>64</td>\n",
       "      <td>0.217694</td>\n",
       "      <td>0.299104</td>\n",
       "      <td>0.567862</td>\n",
       "      <td>72</td>\n",
       "      <td>5</td>\n",
       "      <td>76</td>\n",
       "    </tr>\n",
       "    <tr>\n",
       "      <th>...</th>\n",
       "      <td>...</td>\n",
       "      <td>...</td>\n",
       "      <td>...</td>\n",
       "      <td>...</td>\n",
       "      <td>...</td>\n",
       "      <td>...</td>\n",
       "      <td>...</td>\n",
       "      <td>...</td>\n",
       "      <td>...</td>\n",
       "      <td>...</td>\n",
       "      <td>...</td>\n",
       "      <td>...</td>\n",
       "    </tr>\n",
       "    <tr>\n",
       "      <th>97</th>\n",
       "      <td>4.884886</td>\n",
       "      <td>0.033347</td>\n",
       "      <td>0.008556</td>\n",
       "      <td>9</td>\n",
       "      <td>904</td>\n",
       "      <td>32</td>\n",
       "      <td>0.245489</td>\n",
       "      <td>0.279971</td>\n",
       "      <td>0.574128</td>\n",
       "      <td>11</td>\n",
       "      <td>96</td>\n",
       "      <td>26</td>\n",
       "    </tr>\n",
       "    <tr>\n",
       "      <th>9</th>\n",
       "      <td>6.582698</td>\n",
       "      <td>0.022971</td>\n",
       "      <td>0.005452</td>\n",
       "      <td>8</td>\n",
       "      <td>735</td>\n",
       "      <td>64</td>\n",
       "      <td>0.245898</td>\n",
       "      <td>0.279438</td>\n",
       "      <td>0.572479</td>\n",
       "      <td>9</td>\n",
       "      <td>97</td>\n",
       "      <td>47</td>\n",
       "    </tr>\n",
       "    <tr>\n",
       "      <th>60</th>\n",
       "      <td>6.055071</td>\n",
       "      <td>0.014758</td>\n",
       "      <td>0.018737</td>\n",
       "      <td>9</td>\n",
       "      <td>1173</td>\n",
       "      <td>32</td>\n",
       "      <td>0.238865</td>\n",
       "      <td>0.270780</td>\n",
       "      <td>0.567269</td>\n",
       "      <td>20</td>\n",
       "      <td>98</td>\n",
       "      <td>79</td>\n",
       "    </tr>\n",
       "    <tr>\n",
       "      <th>63</th>\n",
       "      <td>5.325114</td>\n",
       "      <td>0.013639</td>\n",
       "      <td>0.006803</td>\n",
       "      <td>8</td>\n",
       "      <td>1045</td>\n",
       "      <td>32</td>\n",
       "      <td>0.247339</td>\n",
       "      <td>0.267084</td>\n",
       "      <td>0.566009</td>\n",
       "      <td>6</td>\n",
       "      <td>99</td>\n",
       "      <td>88</td>\n",
       "    </tr>\n",
       "    <tr>\n",
       "      <th>64</th>\n",
       "      <td>5.384592</td>\n",
       "      <td>0.010469</td>\n",
       "      <td>0.007956</td>\n",
       "      <td>7</td>\n",
       "      <td>1119</td>\n",
       "      <td>32</td>\n",
       "      <td>0.247437</td>\n",
       "      <td>0.266565</td>\n",
       "      <td>0.567161</td>\n",
       "      <td>5</td>\n",
       "      <td>100</td>\n",
       "      <td>80</td>\n",
       "    </tr>\n",
       "  </tbody>\n",
       "</table>\n",
       "<p>100 rows × 12 columns</p>\n",
       "</div>"
      ],
      "text/plain": [
       "     fit_time colsample_bytree learning_rate max_depth n_estimators  \\\n",
       "59  10.614483         0.066566      0.012932        10         1067   \n",
       "71  11.724659         0.064785      0.019609        10          733   \n",
       "7    9.906502         0.415961      0.019017         9         1089   \n",
       "31  19.246020         0.182715      0.007614        10         1151   \n",
       "23  14.843153         0.456038      0.010623         9          963   \n",
       "..        ...              ...           ...       ...          ...   \n",
       "97   4.884886         0.033347      0.008556         9          904   \n",
       "9    6.582698         0.022971      0.005452         8          735   \n",
       "60   6.055071         0.014758      0.018737         9         1173   \n",
       "63   5.325114         0.013639      0.006803         8         1045   \n",
       "64   5.384592         0.010469      0.007956         7         1119   \n",
       "\n",
       "   num_leaves  balanced_accuracy  f1_weighted  roc_auc_ovr_weighted  \\\n",
       "59         64           0.216819     0.300684              0.569520   \n",
       "71        128           0.208594     0.299626              0.563129   \n",
       "7          32           0.214293     0.299485              0.567458   \n",
       "31        128           0.211101     0.299429              0.566634   \n",
       "23         64           0.217694     0.299104              0.567862   \n",
       "..        ...                ...          ...                   ...   \n",
       "97         32           0.245489     0.279971              0.574128   \n",
       "9          64           0.245898     0.279438              0.572479   \n",
       "60         32           0.238865     0.270780              0.567269   \n",
       "63         32           0.247339     0.267084              0.566009   \n",
       "64         32           0.247437     0.266565              0.567161   \n",
       "\n",
       "    balanced_accuracy_rank  f1_weighted_rank  roc_auc_ovr_weighted_rank  \n",
       "59                      73                 1                         66  \n",
       "71                      94                 2                         94  \n",
       "7                       81                 3                         78  \n",
       "31                      90                 4                         86  \n",
       "23                      72                 5                         76  \n",
       "..                     ...               ...                        ...  \n",
       "97                      11                96                         26  \n",
       "9                        9                97                         47  \n",
       "60                      20                98                         79  \n",
       "63                       6                99                         88  \n",
       "64                       5               100                         80  \n",
       "\n",
       "[100 rows x 12 columns]"
      ]
     },
     "execution_count": 34,
     "metadata": {},
     "output_type": "execute_result"
    }
   ],
   "source": [
    "res.sort_values('f1_weighted_rank')"
   ]
  },
  {
   "cell_type": "code",
   "execution_count": 19,
   "metadata": {},
   "outputs": [
    {
     "data": {
      "text/plain": [
       "{'colsample_bytree': 0.06656612299768393,\n",
       " 'learning_rate': 0.012932366040730224,\n",
       " 'max_depth': 10,\n",
       " 'n_estimators': 1067,\n",
       " 'num_leaves': 64}"
      ]
     },
     "execution_count": 19,
     "metadata": {},
     "output_type": "execute_result"
    }
   ],
   "source": [
    "clf.best_params_"
   ]
  },
  {
   "cell_type": "code",
   "execution_count": 37,
   "metadata": {},
   "outputs": [],
   "source": [
    "best_model = clf.best_estimator_"
   ]
  },
  {
   "cell_type": "code",
   "execution_count": 38,
   "metadata": {},
   "outputs": [
    {
     "data": {
      "text/plain": [
       "['lgbm_model.joblib']"
      ]
     },
     "execution_count": 38,
     "metadata": {},
     "output_type": "execute_result"
    }
   ],
   "source": [
    "joblib.dump(best_model, 'lgbm_model.joblib')"
   ]
  },
  {
   "cell_type": "code",
   "execution_count": 28,
   "metadata": {},
   "outputs": [],
   "source": [
    "params = {\n",
    "    'n_estimators': 763,\n",
    "    'learning_rate': 0.0055,\n",
    "    'max_depth': 7,\n",
    "    'num_leaves': 32,\n",
    "    'colsample_bytree': 0.37,\n",
    "    'class_weight': 'balanced'\n",
    "}\n",
    "best_model = lgb.LGBMClassifier(**params)"
   ]
  },
  {
   "cell_type": "code",
   "execution_count": 39,
   "metadata": {},
   "outputs": [
    {
     "data": {
      "text/html": [
       "<style>#sk-container-id-3 {color: black;background-color: white;}#sk-container-id-3 pre{padding: 0;}#sk-container-id-3 div.sk-toggleable {background-color: white;}#sk-container-id-3 label.sk-toggleable__label {cursor: pointer;display: block;width: 100%;margin-bottom: 0;padding: 0.3em;box-sizing: border-box;text-align: center;}#sk-container-id-3 label.sk-toggleable__label-arrow:before {content: \"▸\";float: left;margin-right: 0.25em;color: #696969;}#sk-container-id-3 label.sk-toggleable__label-arrow:hover:before {color: black;}#sk-container-id-3 div.sk-estimator:hover label.sk-toggleable__label-arrow:before {color: black;}#sk-container-id-3 div.sk-toggleable__content {max-height: 0;max-width: 0;overflow: hidden;text-align: left;background-color: #f0f8ff;}#sk-container-id-3 div.sk-toggleable__content pre {margin: 0.2em;color: black;border-radius: 0.25em;background-color: #f0f8ff;}#sk-container-id-3 input.sk-toggleable__control:checked~div.sk-toggleable__content {max-height: 200px;max-width: 100%;overflow: auto;}#sk-container-id-3 input.sk-toggleable__control:checked~label.sk-toggleable__label-arrow:before {content: \"▾\";}#sk-container-id-3 div.sk-estimator input.sk-toggleable__control:checked~label.sk-toggleable__label {background-color: #d4ebff;}#sk-container-id-3 div.sk-label input.sk-toggleable__control:checked~label.sk-toggleable__label {background-color: #d4ebff;}#sk-container-id-3 input.sk-hidden--visually {border: 0;clip: rect(1px 1px 1px 1px);clip: rect(1px, 1px, 1px, 1px);height: 1px;margin: -1px;overflow: hidden;padding: 0;position: absolute;width: 1px;}#sk-container-id-3 div.sk-estimator {font-family: monospace;background-color: #f0f8ff;border: 1px dotted black;border-radius: 0.25em;box-sizing: border-box;margin-bottom: 0.5em;}#sk-container-id-3 div.sk-estimator:hover {background-color: #d4ebff;}#sk-container-id-3 div.sk-parallel-item::after {content: \"\";width: 100%;border-bottom: 1px solid gray;flex-grow: 1;}#sk-container-id-3 div.sk-label:hover label.sk-toggleable__label {background-color: #d4ebff;}#sk-container-id-3 div.sk-serial::before {content: \"\";position: absolute;border-left: 1px solid gray;box-sizing: border-box;top: 0;bottom: 0;left: 50%;z-index: 0;}#sk-container-id-3 div.sk-serial {display: flex;flex-direction: column;align-items: center;background-color: white;padding-right: 0.2em;padding-left: 0.2em;position: relative;}#sk-container-id-3 div.sk-item {position: relative;z-index: 1;}#sk-container-id-3 div.sk-parallel {display: flex;align-items: stretch;justify-content: center;background-color: white;position: relative;}#sk-container-id-3 div.sk-item::before, #sk-container-id-3 div.sk-parallel-item::before {content: \"\";position: absolute;border-left: 1px solid gray;box-sizing: border-box;top: 0;bottom: 0;left: 50%;z-index: -1;}#sk-container-id-3 div.sk-parallel-item {display: flex;flex-direction: column;z-index: 1;position: relative;background-color: white;}#sk-container-id-3 div.sk-parallel-item:first-child::after {align-self: flex-end;width: 50%;}#sk-container-id-3 div.sk-parallel-item:last-child::after {align-self: flex-start;width: 50%;}#sk-container-id-3 div.sk-parallel-item:only-child::after {width: 0;}#sk-container-id-3 div.sk-dashed-wrapped {border: 1px dashed gray;margin: 0 0.4em 0.5em 0.4em;box-sizing: border-box;padding-bottom: 0.4em;background-color: white;}#sk-container-id-3 div.sk-label label {font-family: monospace;font-weight: bold;display: inline-block;line-height: 1.2em;}#sk-container-id-3 div.sk-label-container {text-align: center;}#sk-container-id-3 div.sk-container {/* jupyter's `normalize.less` sets `[hidden] { display: none; }` but bootstrap.min.css set `[hidden] { display: none !important; }` so we also need the `!important` here to be able to override the default hidden behavior on the sphinx rendered scikit-learn.org. See: https://github.com/scikit-learn/scikit-learn/issues/21755 */display: inline-block !important;position: relative;}#sk-container-id-3 div.sk-text-repr-fallback {display: none;}</style><div id=\"sk-container-id-3\" class=\"sk-top-container\"><div class=\"sk-text-repr-fallback\"><pre>LGBMClassifier(class_weight=&#x27;balanced&#x27;, colsample_bytree=0.06656612299768393,\n",
       "               learning_rate=0.012932366040730224, max_depth=10,\n",
       "               n_estimators=1067, num_leaves=64)</pre><b>In a Jupyter environment, please rerun this cell to show the HTML representation or trust the notebook. <br />On GitHub, the HTML representation is unable to render, please try loading this page with nbviewer.org.</b></div><div class=\"sk-container\" hidden><div class=\"sk-item\"><div class=\"sk-estimator sk-toggleable\"><input class=\"sk-toggleable__control sk-hidden--visually\" id=\"sk-estimator-id-3\" type=\"checkbox\" checked><label for=\"sk-estimator-id-3\" class=\"sk-toggleable__label sk-toggleable__label-arrow\">LGBMClassifier</label><div class=\"sk-toggleable__content\"><pre>LGBMClassifier(class_weight=&#x27;balanced&#x27;, colsample_bytree=0.06656612299768393,\n",
       "               learning_rate=0.012932366040730224, max_depth=10,\n",
       "               n_estimators=1067, num_leaves=64)</pre></div></div></div></div></div>"
      ],
      "text/plain": [
       "LGBMClassifier(class_weight='balanced', colsample_bytree=0.06656612299768393,\n",
       "               learning_rate=0.012932366040730224, max_depth=10,\n",
       "               n_estimators=1067, num_leaves=64)"
      ]
     },
     "execution_count": 39,
     "metadata": {},
     "output_type": "execute_result"
    }
   ],
   "source": [
    "best_model.fit(x_train, y_train)"
   ]
  },
  {
   "cell_type": "code",
   "execution_count": 40,
   "metadata": {},
   "outputs": [],
   "source": [
    "y_hat = best_model.predict(x_test)"
   ]
  },
  {
   "cell_type": "code",
   "execution_count": 41,
   "metadata": {},
   "outputs": [
    {
     "data": {
      "text/plain": [
       "<sklearn.metrics._plot.confusion_matrix.ConfusionMatrixDisplay at 0x7f8f19bb6e30>"
      ]
     },
     "execution_count": 41,
     "metadata": {},
     "output_type": "execute_result"
    },
    {
     "data": {
      "image/png": "[encoded data removed]",
      "text/plain": [
       "<Figure size 800x800 with 2 Axes>"
      ]
     },
     "metadata": {},
     "output_type": "display_data"
    }
   ],
   "source": [
    "fig, ax = plt.subplots(figsize=(8, 8))\n",
    "ConfusionMatrixDisplay.from_predictions(y_test, y_hat, ax=ax, cmap='Blues')"
   ]
  },
  {
   "cell_type": "code",
   "execution_count": 42,
   "metadata": {},
   "outputs": [],
   "source": [
    "test = pd.DataFrame({'y': y_test, 'y_hat': y_hat})"
   ]
  },
  {
   "cell_type": "code",
   "execution_count": 43,
   "metadata": {},
   "outputs": [
    {
     "data": {
      "text/plain": [
       "<AxesSubplot:xlabel='y', ylabel='y_hat'>"
      ]
     },
     "execution_count": 43,
     "metadata": {},
     "output_type": "execute_result"
    },
    {
     "data": {
      "image/png": "[encoded data removed]",
      "text/plain": [
       "<Figure size 1200x600 with 1 Axes>"
      ]
     },
     "metadata": {},
     "output_type": "display_data"
    }
   ],
   "source": [
    "fig, ax = plt.subplots(figsize=(12, 6))\n",
    "sns.boxplot(ax=ax, data=test, y='y_hat', x='y')"
   ]
  },
  {
   "cell_type": "code",
   "execution_count": 44,
   "metadata": {},
   "outputs": [],
   "source": [
    "bins = (-0.5, 0.5, 0.5, 1.5, 1.5, 2.5, 2.5, 3.5, 3.5, 4.5, 4.5, 5.5, 5.5)"
   ]
  },
  {
   "cell_type": "code",
   "execution_count": 45,
   "metadata": {},
   "outputs": [
    {
     "data": {
      "text/plain": [
       "<AxesSubplot:ylabel='Count'>"
      ]
     },
     "execution_count": 45,
     "metadata": {},
     "output_type": "execute_result"
    },
    {
     "data": {
      "image/png": "[encoded data removed]",
      "text/plain": [
       "<Figure size 640x480 with 1 Axes>"
      ]
     },
     "metadata": {},
     "output_type": "display_data"
    }
   ],
   "source": [
    "sns.histplot(y_hat, bins=bins)"
   ]
  },
  {
   "cell_type": "code",
   "execution_count": 46,
   "metadata": {},
   "outputs": [
    {
     "data": {
      "text/plain": [
       "<AxesSubplot:ylabel='Count'>"
      ]
     },
     "execution_count": 46,
     "metadata": {},
     "output_type": "execute_result"
    },
    {
     "data": {
      "image/png": "[encoded data removed]",
      "text/plain": [
       "<Figure size 640x480 with 1 Axes>"
      ]
     },
     "metadata": {},
     "output_type": "display_data"
    }
   ],
   "source": [
    "sns.histplot(y_test, bins=bins)"
   ]
  },
  {
   "cell_type": "code",
   "execution_count": 102,
   "metadata": {},
   "outputs": [],
   "source": [
    "def merge_wc22_teams(res, teams):\n",
    "    match_list = []\n",
    "    val_cols = [c for c in teams.columns if c not in ['year', 'team']]\n",
    "    col_names = ['team1_' + c for c in val_cols] + ['team2_' + c for c in val_cols]\n",
    "    for row in res.itertuples(index=False):\n",
    "        team1 = row.team1\n",
    "        team2 = row.team2\n",
    "        col_vals = np.hstack((\n",
    "            teams[teams['team'] == team1].sort_values('year').iloc[-1][val_cols].values,\n",
    "            teams[teams['team'] == team2].sort_values('year').iloc[-1][val_cols].values\n",
    "        ))\n",
    "        d = {col_name: col_val for (col_name, col_val) in zip(col_names, col_vals)}\n",
    "        d['team1'] = team1\n",
    "        d['team2'] = team2\n",
    "        match_list.append(d)\n",
    "    return pd.DataFrame(match_list)\n",
    "\n",
    "def transform_wc22(df):\n",
    "    df = df[df['Team1_Name'] != '-']\n",
    "    team1 = np.hstack((df['Team1_Name'].values, df['Team2_Name'].values))\n",
    "    team2 = np.hstack((df['Team2_Name'].values, df['Team1_Name'].values))\n",
    "    df = pd.DataFrame({'team1': team1, 'team2': team2})\n",
    "    df['team1'] = df['team1'].astype('string')\n",
    "    df['team2'] = df['team2'].astype('string')\n",
    "    df = df.replace({'IR Iran': 'Iran', 'South Korea': 'Korea Republic', 'USA': 'United States'})\n",
    "    return df\n",
    "\n",
    "def predict_wc22(model, df):\n",
    "    n_matches = len(df) // 2\n",
    "    y_hat_wc22 = best_model.predict(df[x_cols].values)\n",
    "    y_hat_wc22_proba = best_model.predict_proba(df[x_cols].values)\n",
    "    y_hat_wc22_proba_max = np.max(y_hat_wc22_proba, axis=1)\n",
    "    df['team1_score_pred'] = y_hat_wc22\n",
    "    df['team1_score_pred_proba'] = y_hat_wc22_proba_max\n",
    "    df['team2_score_pred'] = df['team1_score_pred'].shift(-n_matches)\n",
    "    df['team2_score_pred_proba'] = df['team1_score_pred_proba'].shift(-n_matches)\n",
    "    df = df.iloc[0:n_matches][['team1', 'team2', 'team1_score_pred', 'team2_score_pred', 'team1_score_pred_proba', 'team2_score_pred_proba']]\n",
    "    df['team2_score_pred'] = df['team2_score_pred'].astype(int)\n",
    "    df['pred_proba'] = df['team1_score_pred_proba'] * df['team2_score_pred_proba']\n",
    "    df = df[['team1', 'team2', 'team1_score_pred', 'team2_score_pred', 'pred_proba']]\n",
    "    return df"
   ]
  },
  {
   "cell_type": "code",
   "execution_count": 157,
   "metadata": {},
   "outputs": [],
   "source": [
    "from itertools import combinations\n",
    "df_wc_teams = pd.read_csv('Teams.csv')\n",
    "df_wc_teams = df_wc_teams.replace({'USA': 'United States', 'IR Iran': 'Iran', 'South Korea': 'Korea Republic'})\n",
    "df_matches = pd.read_csv('Matches.csv')\n",
    "res_wc22 = transform_wc22(df_matches)\n",
    "df_wc22 = merge_wc22_teams(res_wc22, df_teams)\n",
    "df_all_matches = pd.DataFrame({'Team1_Name': x[0], 'Team2_Name': x[1]} for x in combinations(df_wc_teams['Team_Name'].values, 2))\n",
    "res_all = transform_wc22(df_all_matches)\n",
    "df_wc22_all = merge_wc22_teams(res_all, df_teams)"
   ]
  },
  {
   "cell_type": "code",
   "execution_count": 158,
   "metadata": {},
   "outputs": [],
   "source": [
    "df_wc22_all = predict_wc22(best_model, df_wc22_all)"
   ]
  },
  {
   "cell_type": "code",
   "execution_count": 159,
   "metadata": {},
   "outputs": [],
   "source": [
    "def get_group(row, df_wc_teams):\n",
    "    g1 = df_wc_teams.loc[df_wc_teams['Team_Name'] == row['team1'], 'GroupName'].values[0]\n",
    "    g2 = df_wc_teams.loc[df_wc_teams['Team_Name'] == row['team2'], 'GroupName'].values[0]\n",
    "    if g1 == g2:\n",
    "        return g1\n",
    "    else:\n",
    "        return '-'"
   ]
  },
  {
   "cell_type": "code",
   "execution_count": 160,
   "metadata": {},
   "outputs": [],
   "source": [
    "df_wc22_all['Group'] = df_wc22_all.apply(lambda r: get_group(r, df_wc_teams), axis=1)"
   ]
  },
  {
   "cell_type": "code",
   "execution_count": null,
   "metadata": {},
   "outputs": [],
   "source": [
    "teams = (('Senegal', 'United States'), ('Argentina', 'Denmark'))\n"
   ]
  },
  {
   "cell_type": "code",
   "execution_count": 169,
   "metadata": {},
   "outputs": [
    {
     "data": {
      "text/html": [
       "<div>\n",
       "<style scoped>\n",
       "    .dataframe tbody tr th:only-of-type {\n",
       "        vertical-align: middle;\n",
       "    }\n",
       "\n",
       "    .dataframe tbody tr th {\n",
       "        vertical-align: top;\n",
       "    }\n",
       "\n",
       "    .dataframe thead th {\n",
       "        text-align: right;\n",
       "    }\n",
       "</style>\n",
       "<table border=\"1\" class=\"dataframe\">\n",
       "  <thead>\n",
       "    <tr style=\"text-align: right;\">\n",
       "      <th></th>\n",
       "      <th>team1</th>\n",
       "      <th>team2</th>\n",
       "      <th>team1_score_pred</th>\n",
       "      <th>team2_score_pred</th>\n",
       "      <th>pred_proba</th>\n",
       "      <th>Group</th>\n",
       "    </tr>\n",
       "  </thead>\n",
       "  <tbody>\n",
       "    <tr>\n",
       "      <th>239</th>\n",
       "      <td>Argentina</td>\n",
       "      <td>Portugal</td>\n",
       "      <td>0</td>\n",
       "      <td>0</td>\n",
       "      <td>0.099535</td>\n",
       "      <td>-</td>\n",
       "    </tr>\n",
       "  </tbody>\n",
       "</table>\n",
       "</div>"
      ],
      "text/plain": [
       "         team1     team2  team1_score_pred  team2_score_pred  pred_proba Group\n",
       "239  Argentina  Portugal                 0                 0    0.099535     -"
      ]
     },
     "metadata": {},
     "output_type": "display_data"
    },
    {
     "data": {
      "text/html": [
       "<div>\n",
       "<style scoped>\n",
       "    .dataframe tbody tr th:only-of-type {\n",
       "        vertical-align: middle;\n",
       "    }\n",
       "\n",
       "    .dataframe tbody tr th {\n",
       "        vertical-align: top;\n",
       "    }\n",
       "\n",
       "    .dataframe thead th {\n",
       "        text-align: right;\n",
       "    }\n",
       "</style>\n",
       "<table border=\"1\" class=\"dataframe\">\n",
       "  <thead>\n",
       "    <tr style=\"text-align: right;\">\n",
       "      <th></th>\n",
       "      <th>team1</th>\n",
       "      <th>team2</th>\n",
       "      <th>team1_score_pred</th>\n",
       "      <th>team2_score_pred</th>\n",
       "      <th>pred_proba</th>\n",
       "      <th>Group</th>\n",
       "    </tr>\n",
       "  </thead>\n",
       "  <tbody>\n",
       "    <tr>\n",
       "      <th>309</th>\n",
       "      <td>France</td>\n",
       "      <td>Spain</td>\n",
       "      <td>1</td>\n",
       "      <td>1</td>\n",
       "      <td>0.19055</td>\n",
       "      <td>-</td>\n",
       "    </tr>\n",
       "  </tbody>\n",
       "</table>\n",
       "</div>"
      ],
      "text/plain": [
       "      team1  team2  team1_score_pred  team2_score_pred  pred_proba Group\n",
       "309  France  Spain                 1                 1     0.19055     -"
      ]
     },
     "metadata": {},
     "output_type": "display_data"
    }
   ],
   "source": [
    "eighth = [('Senegal', 'United States'), ('Argentina', 'Denmark'), ('Spain', 'Croatia'), \n",
    "    ('Switzerland', 'Uruguay'), ('England', 'Netherlands'), ('France', 'Poland'), \n",
    "    ('Belgium', 'Germany'), ('Portugal', 'Brazil')]\n",
    "quarter = [('United States', 'Argentina'), ('Spain', 'Switzerland'), ('Netherlands', 'France'), ('Germany', 'Portugal')]\n",
    "semi = [('Argentina', 'Spain'), ('France', 'Portugal')]\n",
    "final = [('Argentina', 'Portugal'), ('Spain', 'France')]\n",
    "for (t1, t2) in final:\n",
    "    idx = ((df_wc22_all['team1'] == t1) & (df_wc22_all['team2'] == t2)) | ((df_wc22_all['team1'] == t2) & (df_wc22_all['team2'] == t1))\n",
    "    display(df_wc22_all[idx])"
   ]
  },
  {
   "cell_type": "code",
   "execution_count": 164,
   "metadata": {},
   "outputs": [
    {
     "data": {
      "text/html": [
       "<div>\n",
       "<style scoped>\n",
       "    .dataframe tbody tr th:only-of-type {\n",
       "        vertical-align: middle;\n",
       "    }\n",
       "\n",
       "    .dataframe tbody tr th {\n",
       "        vertical-align: top;\n",
       "    }\n",
       "\n",
       "    .dataframe thead th {\n",
       "        text-align: right;\n",
       "    }\n",
       "</style>\n",
       "<table border=\"1\" class=\"dataframe\">\n",
       "  <thead>\n",
       "    <tr style=\"text-align: right;\">\n",
       "      <th></th>\n",
       "      <th>team1</th>\n",
       "      <th>team2</th>\n",
       "      <th>team1_score_pred</th>\n",
       "      <th>team2_score_pred</th>\n",
       "      <th>pred_proba</th>\n",
       "      <th>Group</th>\n",
       "    </tr>\n",
       "  </thead>\n",
       "  <tbody>\n",
       "    <tr>\n",
       "      <th>90</th>\n",
       "      <td>Netherlands</td>\n",
       "      <td>England</td>\n",
       "      <td>1</td>\n",
       "      <td>1</td>\n",
       "      <td>0.132856</td>\n",
       "      <td>-</td>\n",
       "    </tr>\n",
       "    <tr>\n",
       "      <th>91</th>\n",
       "      <td>Netherlands</td>\n",
       "      <td>Iran</td>\n",
       "      <td>3</td>\n",
       "      <td>1</td>\n",
       "      <td>0.156466</td>\n",
       "      <td>-</td>\n",
       "    </tr>\n",
       "    <tr>\n",
       "      <th>92</th>\n",
       "      <td>Netherlands</td>\n",
       "      <td>United States</td>\n",
       "      <td>4</td>\n",
       "      <td>0</td>\n",
       "      <td>0.095921</td>\n",
       "      <td>-</td>\n",
       "    </tr>\n",
       "    <tr>\n",
       "      <th>93</th>\n",
       "      <td>Netherlands</td>\n",
       "      <td>Wales</td>\n",
       "      <td>3</td>\n",
       "      <td>1</td>\n",
       "      <td>0.241871</td>\n",
       "      <td>-</td>\n",
       "    </tr>\n",
       "    <tr>\n",
       "      <th>94</th>\n",
       "      <td>Netherlands</td>\n",
       "      <td>Argentina</td>\n",
       "      <td>0</td>\n",
       "      <td>2</td>\n",
       "      <td>0.108815</td>\n",
       "      <td>-</td>\n",
       "    </tr>\n",
       "    <tr>\n",
       "      <th>95</th>\n",
       "      <td>Netherlands</td>\n",
       "      <td>Saudi Arabia</td>\n",
       "      <td>4</td>\n",
       "      <td>0</td>\n",
       "      <td>0.163439</td>\n",
       "      <td>-</td>\n",
       "    </tr>\n",
       "    <tr>\n",
       "      <th>96</th>\n",
       "      <td>Netherlands</td>\n",
       "      <td>Mexico</td>\n",
       "      <td>3</td>\n",
       "      <td>2</td>\n",
       "      <td>0.094017</td>\n",
       "      <td>-</td>\n",
       "    </tr>\n",
       "    <tr>\n",
       "      <th>97</th>\n",
       "      <td>Netherlands</td>\n",
       "      <td>Poland</td>\n",
       "      <td>4</td>\n",
       "      <td>2</td>\n",
       "      <td>0.143401</td>\n",
       "      <td>-</td>\n",
       "    </tr>\n",
       "    <tr>\n",
       "      <th>98</th>\n",
       "      <td>Netherlands</td>\n",
       "      <td>France</td>\n",
       "      <td>1</td>\n",
       "      <td>1</td>\n",
       "      <td>0.112052</td>\n",
       "      <td>-</td>\n",
       "    </tr>\n",
       "    <tr>\n",
       "      <th>99</th>\n",
       "      <td>Netherlands</td>\n",
       "      <td>Australia</td>\n",
       "      <td>4</td>\n",
       "      <td>0</td>\n",
       "      <td>0.158154</td>\n",
       "      <td>-</td>\n",
       "    </tr>\n",
       "    <tr>\n",
       "      <th>100</th>\n",
       "      <td>Netherlands</td>\n",
       "      <td>Denmark</td>\n",
       "      <td>4</td>\n",
       "      <td>2</td>\n",
       "      <td>0.415794</td>\n",
       "      <td>-</td>\n",
       "    </tr>\n",
       "    <tr>\n",
       "      <th>101</th>\n",
       "      <td>Netherlands</td>\n",
       "      <td>Tunisia</td>\n",
       "      <td>3</td>\n",
       "      <td>0</td>\n",
       "      <td>0.128919</td>\n",
       "      <td>-</td>\n",
       "    </tr>\n",
       "    <tr>\n",
       "      <th>102</th>\n",
       "      <td>Netherlands</td>\n",
       "      <td>Spain</td>\n",
       "      <td>2</td>\n",
       "      <td>1</td>\n",
       "      <td>0.097757</td>\n",
       "      <td>-</td>\n",
       "    </tr>\n",
       "    <tr>\n",
       "      <th>103</th>\n",
       "      <td>Netherlands</td>\n",
       "      <td>Costa Rica</td>\n",
       "      <td>2</td>\n",
       "      <td>1</td>\n",
       "      <td>0.154958</td>\n",
       "      <td>-</td>\n",
       "    </tr>\n",
       "    <tr>\n",
       "      <th>104</th>\n",
       "      <td>Netherlands</td>\n",
       "      <td>Germany</td>\n",
       "      <td>1</td>\n",
       "      <td>1</td>\n",
       "      <td>0.181634</td>\n",
       "      <td>-</td>\n",
       "    </tr>\n",
       "    <tr>\n",
       "      <th>105</th>\n",
       "      <td>Netherlands</td>\n",
       "      <td>Japan</td>\n",
       "      <td>3</td>\n",
       "      <td>0</td>\n",
       "      <td>0.131079</td>\n",
       "      <td>-</td>\n",
       "    </tr>\n",
       "    <tr>\n",
       "      <th>106</th>\n",
       "      <td>Netherlands</td>\n",
       "      <td>Belgium</td>\n",
       "      <td>4</td>\n",
       "      <td>1</td>\n",
       "      <td>0.323572</td>\n",
       "      <td>-</td>\n",
       "    </tr>\n",
       "    <tr>\n",
       "      <th>107</th>\n",
       "      <td>Netherlands</td>\n",
       "      <td>Canada</td>\n",
       "      <td>4</td>\n",
       "      <td>2</td>\n",
       "      <td>0.097392</td>\n",
       "      <td>-</td>\n",
       "    </tr>\n",
       "    <tr>\n",
       "      <th>108</th>\n",
       "      <td>Netherlands</td>\n",
       "      <td>Morocco</td>\n",
       "      <td>3</td>\n",
       "      <td>2</td>\n",
       "      <td>0.227800</td>\n",
       "      <td>-</td>\n",
       "    </tr>\n",
       "    <tr>\n",
       "      <th>109</th>\n",
       "      <td>Netherlands</td>\n",
       "      <td>Croatia</td>\n",
       "      <td>4</td>\n",
       "      <td>1</td>\n",
       "      <td>0.169298</td>\n",
       "      <td>-</td>\n",
       "    </tr>\n",
       "    <tr>\n",
       "      <th>110</th>\n",
       "      <td>Netherlands</td>\n",
       "      <td>Brazil</td>\n",
       "      <td>4</td>\n",
       "      <td>1</td>\n",
       "      <td>0.113139</td>\n",
       "      <td>-</td>\n",
       "    </tr>\n",
       "    <tr>\n",
       "      <th>111</th>\n",
       "      <td>Netherlands</td>\n",
       "      <td>Serbia</td>\n",
       "      <td>3</td>\n",
       "      <td>2</td>\n",
       "      <td>0.184476</td>\n",
       "      <td>-</td>\n",
       "    </tr>\n",
       "    <tr>\n",
       "      <th>112</th>\n",
       "      <td>Netherlands</td>\n",
       "      <td>Switzerland</td>\n",
       "      <td>3</td>\n",
       "      <td>1</td>\n",
       "      <td>0.130042</td>\n",
       "      <td>-</td>\n",
       "    </tr>\n",
       "    <tr>\n",
       "      <th>113</th>\n",
       "      <td>Netherlands</td>\n",
       "      <td>Cameroon</td>\n",
       "      <td>3</td>\n",
       "      <td>1</td>\n",
       "      <td>0.114818</td>\n",
       "      <td>-</td>\n",
       "    </tr>\n",
       "    <tr>\n",
       "      <th>114</th>\n",
       "      <td>Netherlands</td>\n",
       "      <td>Portugal</td>\n",
       "      <td>4</td>\n",
       "      <td>2</td>\n",
       "      <td>0.115022</td>\n",
       "      <td>-</td>\n",
       "    </tr>\n",
       "    <tr>\n",
       "      <th>115</th>\n",
       "      <td>Netherlands</td>\n",
       "      <td>Ghana</td>\n",
       "      <td>4</td>\n",
       "      <td>0</td>\n",
       "      <td>0.175547</td>\n",
       "      <td>-</td>\n",
       "    </tr>\n",
       "    <tr>\n",
       "      <th>116</th>\n",
       "      <td>Netherlands</td>\n",
       "      <td>Uruguay</td>\n",
       "      <td>4</td>\n",
       "      <td>0</td>\n",
       "      <td>0.199846</td>\n",
       "      <td>-</td>\n",
       "    </tr>\n",
       "    <tr>\n",
       "      <th>117</th>\n",
       "      <td>Netherlands</td>\n",
       "      <td>Korea Republic</td>\n",
       "      <td>4</td>\n",
       "      <td>0</td>\n",
       "      <td>0.136984</td>\n",
       "      <td>-</td>\n",
       "    </tr>\n",
       "  </tbody>\n",
       "</table>\n",
       "</div>"
      ],
      "text/plain": [
       "           team1           team2  team1_score_pred  team2_score_pred  \\\n",
       "90   Netherlands         England                 1                 1   \n",
       "91   Netherlands            Iran                 3                 1   \n",
       "92   Netherlands   United States                 4                 0   \n",
       "93   Netherlands           Wales                 3                 1   \n",
       "94   Netherlands       Argentina                 0                 2   \n",
       "95   Netherlands    Saudi Arabia                 4                 0   \n",
       "96   Netherlands          Mexico                 3                 2   \n",
       "97   Netherlands          Poland                 4                 2   \n",
       "98   Netherlands          France                 1                 1   \n",
       "99   Netherlands       Australia                 4                 0   \n",
       "100  Netherlands         Denmark                 4                 2   \n",
       "101  Netherlands         Tunisia                 3                 0   \n",
       "102  Netherlands           Spain                 2                 1   \n",
       "103  Netherlands      Costa Rica                 2                 1   \n",
       "104  Netherlands         Germany                 1                 1   \n",
       "105  Netherlands           Japan                 3                 0   \n",
       "106  Netherlands         Belgium                 4                 1   \n",
       "107  Netherlands          Canada                 4                 2   \n",
       "108  Netherlands         Morocco                 3                 2   \n",
       "109  Netherlands         Croatia                 4                 1   \n",
       "110  Netherlands          Brazil                 4                 1   \n",
       "111  Netherlands          Serbia                 3                 2   \n",
       "112  Netherlands     Switzerland                 3                 1   \n",
       "113  Netherlands        Cameroon                 3                 1   \n",
       "114  Netherlands        Portugal                 4                 2   \n",
       "115  Netherlands           Ghana                 4                 0   \n",
       "116  Netherlands         Uruguay                 4                 0   \n",
       "117  Netherlands  Korea Republic                 4                 0   \n",
       "\n",
       "     pred_proba Group  \n",
       "90     0.132856     -  \n",
       "91     0.156466     -  \n",
       "92     0.095921     -  \n",
       "93     0.241871     -  \n",
       "94     0.108815     -  \n",
       "95     0.163439     -  \n",
       "96     0.094017     -  \n",
       "97     0.143401     -  \n",
       "98     0.112052     -  \n",
       "99     0.158154     -  \n",
       "100    0.415794     -  \n",
       "101    0.128919     -  \n",
       "102    0.097757     -  \n",
       "103    0.154958     -  \n",
       "104    0.181634     -  \n",
       "105    0.131079     -  \n",
       "106    0.323572     -  \n",
       "107    0.097392     -  \n",
       "108    0.227800     -  \n",
       "109    0.169298     -  \n",
       "110    0.113139     -  \n",
       "111    0.184476     -  \n",
       "112    0.130042     -  \n",
       "113    0.114818     -  \n",
       "114    0.115022     -  \n",
       "115    0.175547     -  \n",
       "116    0.199846     -  \n",
       "117    0.136984     -  "
      ]
     },
     "execution_count": 164,
     "metadata": {},
     "output_type": "execute_result"
    }
   ],
   "source": [
    "df_wc22_all[df_wc22_all['team1'] == 'Netherlands']"
   ]
  },
  {
   "cell_type": "code",
   "execution_count": null,
   "metadata": {},
   "outputs": [],
   "source": []
  }
 ],
 "metadata": {
  "kernelspec": {
   "display_name": "Python 3.10.8 ('ds-base')",
   "language": "python",
   "name": "python3"
  },
  "language_info": {
   "codemirror_mode": {
    "name": "ipython",
    "version": 3
   },
   "file_extension": ".py",
   "mimetype": "text/x-python",
   "name": "python",
   "nbconvert_exporter": "python",
   "pygments_lexer": "ipython3",
   "version": "3.10.8"
  },
  "orig_nbformat": 4,
  "vscode": {
   "interpreter": {
    "hash": "9227a4dafdf982063707df97383781a7cd95eb1572ed4366a76a2b19196d082c"
   }
  }
 },
 "nbformat": 4,
 "nbformat_minor": 2
}
